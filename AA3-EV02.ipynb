{
 "cells": [
  {
   "cell_type": "code",
   "execution_count": 94,
   "metadata": {},
   "outputs": [],
   "source": [
    "import pandas as pd"
   ]
  },
  {
   "cell_type": "code",
   "execution_count": 95,
   "metadata": {},
   "outputs": [],
   "source": [
    "df = pd.read_csv('Data_Caso_Propuesto.csv')"
   ]
  },
  {
   "cell_type": "code",
   "execution_count": 96,
   "metadata": {},
   "outputs": [
    {
     "name": "stdout",
     "output_type": "stream",
     "text": [
      "<class 'pandas.core.frame.DataFrame'>\n",
      "RangeIndex: 463 entries, 0 to 462\n",
      "Data columns (total 12 columns):\n",
      " #   Column                  Non-Null Count  Dtype  \n",
      "---  ------                  --------------  -----  \n",
      " 0   Codigo                  463 non-null    int64  \n",
      " 1   Ciudad                  463 non-null    object \n",
      " 2   Departamento            463 non-null    object \n",
      " 3   Barrio                  40 non-null     object \n",
      " 4   Direccion               463 non-null    object \n",
      " 5   Area_Terreno            463 non-null    float64\n",
      " 6   Area_Construida         463 non-null    float64\n",
      " 7   Detalle_Disponibilidad  463 non-null    object \n",
      " 8   Estrato                 463 non-null    object \n",
      " 9   Precio                  463 non-null    float64\n",
      " 10  Tipo de Inmueble        463 non-null    object \n",
      " 11  Datos Adicionales       118 non-null    object \n",
      "dtypes: float64(3), int64(1), object(8)\n",
      "memory usage: 43.5+ KB\n"
     ]
    }
   ],
   "source": [
    "df.info()"
   ]
  },
  {
   "cell_type": "code",
   "execution_count": 97,
   "metadata": {},
   "outputs": [
    {
     "data": {
      "text/plain": [
       "Codigo                      0\n",
       "Ciudad                      0\n",
       "Departamento                0\n",
       "Barrio                    423\n",
       "Direccion                   0\n",
       "Area_Terreno                0\n",
       "Area_Construida             0\n",
       "Detalle_Disponibilidad      0\n",
       "Estrato                     0\n",
       "Precio                      0\n",
       "Tipo de Inmueble            0\n",
       "Datos Adicionales         345\n",
       "dtype: int64"
      ]
     },
     "execution_count": 97,
     "metadata": {},
     "output_type": "execute_result"
    }
   ],
   "source": [
    "df.isnull().sum()"
   ]
  },
  {
   "cell_type": "code",
   "execution_count": 98,
   "metadata": {},
   "outputs": [
    {
     "name": "stdout",
     "output_type": "stream",
     "text": [
      "<class 'pandas.core.frame.DataFrame'>\n",
      "RangeIndex: 463 entries, 0 to 462\n",
      "Data columns (total 12 columns):\n",
      " #   Column                  Non-Null Count  Dtype  \n",
      "---  ------                  --------------  -----  \n",
      " 0   Codigo                  463 non-null    int64  \n",
      " 1   Ciudad                  463 non-null    object \n",
      " 2   Departamento            463 non-null    object \n",
      " 3   Barrio                  40 non-null     object \n",
      " 4   Direccion               463 non-null    object \n",
      " 5   Area_Terreno            463 non-null    float64\n",
      " 6   Area_Construida         463 non-null    float64\n",
      " 7   Detalle_Disponibilidad  463 non-null    object \n",
      " 8   Estrato                 463 non-null    object \n",
      " 9   Precio                  463 non-null    float64\n",
      " 10  Tipo de Inmueble        463 non-null    object \n",
      " 11  Datos Adicionales       118 non-null    object \n",
      "dtypes: float64(3), int64(1), object(8)\n",
      "memory usage: 43.5+ KB\n"
     ]
    }
   ],
   "source": [
    "df.info()"
   ]
  },
  {
   "cell_type": "code",
   "execution_count": 99,
   "metadata": {},
   "outputs": [],
   "source": [
    "df=df.dropna"
   ]
  },
  {
   "cell_type": "code",
   "execution_count": 100,
   "metadata": {},
   "outputs": [],
   "source": [
    "df=df.drop_duplicates()"
   ]
  },
  {
   "cell_type": "code",
   "execution_count": 101,
   "metadata": {},
   "outputs": [
    {
     "name": "stdout",
     "output_type": "stream",
     "text": [
      "<class 'pandas.core.frame.DataFrame'>\n",
      "Int64Index: 23 entries, 3 to 462\n",
      "Data columns (total 12 columns):\n",
      " #   Column                  Non-Null Count  Dtype  \n",
      "---  ------                  --------------  -----  \n",
      " 0   Codigo                  23 non-null     int64  \n",
      " 1   Ciudad                  23 non-null     object \n",
      " 2   Departamento            23 non-null     object \n",
      " 3   Barrio                  23 non-null     object \n",
      " 4   Direccion               23 non-null     object \n",
      " 5   Area_Terreno            23 non-null     float64\n",
      " 6   Area_Construida         23 non-null     float64\n",
      " 7   Detalle_Disponibilidad  23 non-null     object \n",
      " 8   Estrato                 23 non-null     object \n",
      " 9   Precio                  23 non-null     float64\n",
      " 10  Tipo de Inmueble        23 non-null     object \n",
      " 11  Datos Adicionales       23 non-null     object \n",
      "dtypes: float64(3), int64(1), object(8)\n",
      "memory usage: 2.3+ KB\n"
     ]
    }
   ],
   "source": [
    "df.info()"
   ]
  },
  {
   "cell_type": "code",
   "execution_count": 102,
   "metadata": {},
   "outputs": [
    {
     "data": {
      "text/html": [
       "<div>\n",
       "<style scoped>\n",
       "    .dataframe tbody tr th:only-of-type {\n",
       "        vertical-align: middle;\n",
       "    }\n",
       "\n",
       "    .dataframe tbody tr th {\n",
       "        vertical-align: top;\n",
       "    }\n",
       "\n",
       "    .dataframe thead th {\n",
       "        text-align: right;\n",
       "    }\n",
       "</style>\n",
       "<table border=\"1\" class=\"dataframe\">\n",
       "  <thead>\n",
       "    <tr style=\"text-align: right;\">\n",
       "      <th></th>\n",
       "      <th>Codigo</th>\n",
       "      <th>Area_Terreno</th>\n",
       "      <th>Area_Construida</th>\n",
       "      <th>Precio</th>\n",
       "    </tr>\n",
       "  </thead>\n",
       "  <tbody>\n",
       "    <tr>\n",
       "      <th>count</th>\n",
       "      <td>23.000000</td>\n",
       "      <td>2.300000e+01</td>\n",
       "      <td>23.000000</td>\n",
       "      <td>2.300000e+01</td>\n",
       "    </tr>\n",
       "    <tr>\n",
       "      <th>mean</th>\n",
       "      <td>12634.260870</td>\n",
       "      <td>1.622327e+05</td>\n",
       "      <td>492.776522</td>\n",
       "      <td>1.770347e+09</td>\n",
       "    </tr>\n",
       "    <tr>\n",
       "      <th>std</th>\n",
       "      <td>3247.318491</td>\n",
       "      <td>4.558649e+05</td>\n",
       "      <td>1537.481264</td>\n",
       "      <td>2.936256e+09</td>\n",
       "    </tr>\n",
       "    <tr>\n",
       "      <th>min</th>\n",
       "      <td>2575.000000</td>\n",
       "      <td>0.000000e+00</td>\n",
       "      <td>0.000000</td>\n",
       "      <td>1.534802e+07</td>\n",
       "    </tr>\n",
       "    <tr>\n",
       "      <th>25%</th>\n",
       "      <td>12113.500000</td>\n",
       "      <td>0.000000e+00</td>\n",
       "      <td>0.000000</td>\n",
       "      <td>3.938667e+07</td>\n",
       "    </tr>\n",
       "    <tr>\n",
       "      <th>50%</th>\n",
       "      <td>12119.000000</td>\n",
       "      <td>3.073000e+03</td>\n",
       "      <td>0.000000</td>\n",
       "      <td>8.375908e+08</td>\n",
       "    </tr>\n",
       "    <tr>\n",
       "      <th>75%</th>\n",
       "      <td>12708.500000</td>\n",
       "      <td>1.206272e+05</td>\n",
       "      <td>45.735000</td>\n",
       "      <td>2.322155e+09</td>\n",
       "    </tr>\n",
       "    <tr>\n",
       "      <th>max</th>\n",
       "      <td>18959.000000</td>\n",
       "      <td>2.187863e+06</td>\n",
       "      <td>7269.000000</td>\n",
       "      <td>1.376828e+10</td>\n",
       "    </tr>\n",
       "  </tbody>\n",
       "</table>\n",
       "</div>"
      ],
      "text/plain": [
       "             Codigo  Area_Terreno  Area_Construida        Precio\n",
       "count     23.000000  2.300000e+01        23.000000  2.300000e+01\n",
       "mean   12634.260870  1.622327e+05       492.776522  1.770347e+09\n",
       "std     3247.318491  4.558649e+05      1537.481264  2.936256e+09\n",
       "min     2575.000000  0.000000e+00         0.000000  1.534802e+07\n",
       "25%    12113.500000  0.000000e+00         0.000000  3.938667e+07\n",
       "50%    12119.000000  3.073000e+03         0.000000  8.375908e+08\n",
       "75%    12708.500000  1.206272e+05        45.735000  2.322155e+09\n",
       "max    18959.000000  2.187863e+06      7269.000000  1.376828e+10"
      ]
     },
     "execution_count": 102,
     "metadata": {},
     "output_type": "execute_result"
    }
   ],
   "source": [
    "df.describe()"
   ]
  },
  {
   "cell_type": "code",
   "execution_count": 103,
   "metadata": {},
   "outputs": [
    {
     "data": {
      "text/html": [
       "<div>\n",
       "<style scoped>\n",
       "    .dataframe tbody tr th:only-of-type {\n",
       "        vertical-align: middle;\n",
       "    }\n",
       "\n",
       "    .dataframe tbody tr th {\n",
       "        vertical-align: top;\n",
       "    }\n",
       "\n",
       "    .dataframe thead th {\n",
       "        text-align: right;\n",
       "    }\n",
       "</style>\n",
       "<table border=\"1\" class=\"dataframe\">\n",
       "  <thead>\n",
       "    <tr style=\"text-align: right;\">\n",
       "      <th></th>\n",
       "      <th>Codigo</th>\n",
       "      <th>Ciudad</th>\n",
       "      <th>Departamento</th>\n",
       "      <th>Barrio</th>\n",
       "      <th>Direccion</th>\n",
       "      <th>Area_Terreno</th>\n",
       "      <th>Area_Construida</th>\n",
       "      <th>Detalle_Disponibilidad</th>\n",
       "      <th>Estrato</th>\n",
       "      <th>Precio</th>\n",
       "      <th>Tipo de Inmueble</th>\n",
       "      <th>Datos Adicionales</th>\n",
       "    </tr>\n",
       "  </thead>\n",
       "  <tbody>\n",
       "    <tr>\n",
       "      <th>57</th>\n",
       "      <td>13270</td>\n",
       "      <td>MANIZALES</td>\n",
       "      <td>CALDAS</td>\n",
       "      <td>EL CENTRO</td>\n",
       "      <td>KR 22 # 29-31 LC S-8 CENTRO COMERCIAL PARQUE C...</td>\n",
       "      <td>0.00</td>\n",
       "      <td>91.47</td>\n",
       "      <td>COMERCIALIZABLE CON RESTRICCION</td>\n",
       "      <td>COMERCIAL</td>\n",
       "      <td>8.375908e+08</td>\n",
       "      <td>LOCAL</td>\n",
       "      <td>LOCAL UBICADO EN EL CENTRO COMERCIAL PARQUE CA...</td>\n",
       "    </tr>\n",
       "    <tr>\n",
       "      <th>3</th>\n",
       "      <td>2575</td>\n",
       "      <td>SOGAMOSO</td>\n",
       "      <td>BOYACÁ</td>\n",
       "      <td>CENTRO</td>\n",
       "      <td>CRA. 10 #11- 78/80 Ó CL 12 # 9 - 77/85 Ó CALLE...</td>\n",
       "      <td>1655.08</td>\n",
       "      <td>7269.00</td>\n",
       "      <td>COMERCIALIZABLE CON RESTRICCION</td>\n",
       "      <td>CUATRO</td>\n",
       "      <td>1.376828e+10</td>\n",
       "      <td>CLINICA</td>\n",
       "      <td>ESTE INMUEBLE SE COMERCIALIZARÁ A TRAVÉS DE SU...</td>\n",
       "    </tr>\n",
       "    <tr>\n",
       "      <th>460</th>\n",
       "      <td>12708</td>\n",
       "      <td>CALI</td>\n",
       "      <td>VALLE DEL CAUCA</td>\n",
       "      <td>PRADOS DEL NORTE</td>\n",
       "      <td>CL 30N #  2B-38 LOCAL 564 CENTRO COMERCIAL SAN...</td>\n",
       "      <td>0.00</td>\n",
       "      <td>0.00</td>\n",
       "      <td>COMERCIALIZABLE CON RESTRICCION</td>\n",
       "      <td>CUATRO</td>\n",
       "      <td>2.070134e+07</td>\n",
       "      <td>LOCAL</td>\n",
       "      <td>¡OPORTUNIDAD PARA INVERTIR! LOCAL EN PROINDIVI...</td>\n",
       "    </tr>\n",
       "    <tr>\n",
       "      <th>458</th>\n",
       "      <td>12709</td>\n",
       "      <td>CALI</td>\n",
       "      <td>VALLE DEL CAUCA</td>\n",
       "      <td>PRADOS DEL NORTE</td>\n",
       "      <td>CL 30N #  2B-38 LOCAL 562  CENTRO COMERCIAL SA...</td>\n",
       "      <td>0.00</td>\n",
       "      <td>0.00</td>\n",
       "      <td>COMERCIALIZABLE CON RESTRICCION</td>\n",
       "      <td>CUATRO</td>\n",
       "      <td>2.960534e+07</td>\n",
       "      <td>LOCAL</td>\n",
       "      <td>¡OPORTUNIDAD PARA INVERTIR! LOCAL EN PROINDIVI...</td>\n",
       "    </tr>\n",
       "    <tr>\n",
       "      <th>461</th>\n",
       "      <td>12706</td>\n",
       "      <td>CALI</td>\n",
       "      <td>VALLE DEL CAUCA</td>\n",
       "      <td>PRADOS DEL NORTE</td>\n",
       "      <td>CL 30N #  2B-38 LOCAL 367 CENTRO COMERCIAL SAN...</td>\n",
       "      <td>0.00</td>\n",
       "      <td>0.00</td>\n",
       "      <td>COMERCIALIZABLE CON RESTRICCION</td>\n",
       "      <td>CUATRO</td>\n",
       "      <td>2.060800e+07</td>\n",
       "      <td>LOCAL</td>\n",
       "      <td>¡OPORTUNIDAD PARA INVERTIR! LOCAL EN PROINDIVI...</td>\n",
       "    </tr>\n",
       "  </tbody>\n",
       "</table>\n",
       "</div>"
      ],
      "text/plain": [
       "     Codigo     Ciudad     Departamento            Barrio  \\\n",
       "57    13270  MANIZALES           CALDAS         EL CENTRO   \n",
       "3      2575   SOGAMOSO           BOYACÁ            CENTRO   \n",
       "460   12708       CALI  VALLE DEL CAUCA  PRADOS DEL NORTE   \n",
       "458   12709       CALI  VALLE DEL CAUCA  PRADOS DEL NORTE   \n",
       "461   12706       CALI  VALLE DEL CAUCA  PRADOS DEL NORTE   \n",
       "\n",
       "                                             Direccion  Area_Terreno  \\\n",
       "57   KR 22 # 29-31 LC S-8 CENTRO COMERCIAL PARQUE C...          0.00   \n",
       "3    CRA. 10 #11- 78/80 Ó CL 12 # 9 - 77/85 Ó CALLE...       1655.08   \n",
       "460  CL 30N #  2B-38 LOCAL 564 CENTRO COMERCIAL SAN...          0.00   \n",
       "458  CL 30N #  2B-38 LOCAL 562  CENTRO COMERCIAL SA...          0.00   \n",
       "461  CL 30N #  2B-38 LOCAL 367 CENTRO COMERCIAL SAN...          0.00   \n",
       "\n",
       "     Area_Construida           Detalle_Disponibilidad    Estrato  \\\n",
       "57             91.47  COMERCIALIZABLE CON RESTRICCION  COMERCIAL   \n",
       "3            7269.00  COMERCIALIZABLE CON RESTRICCION     CUATRO   \n",
       "460             0.00  COMERCIALIZABLE CON RESTRICCION     CUATRO   \n",
       "458             0.00  COMERCIALIZABLE CON RESTRICCION     CUATRO   \n",
       "461             0.00  COMERCIALIZABLE CON RESTRICCION     CUATRO   \n",
       "\n",
       "           Precio Tipo de Inmueble  \\\n",
       "57   8.375908e+08            LOCAL   \n",
       "3    1.376828e+10          CLINICA   \n",
       "460  2.070134e+07            LOCAL   \n",
       "458  2.960534e+07            LOCAL   \n",
       "461  2.060800e+07            LOCAL   \n",
       "\n",
       "                                     Datos Adicionales  \n",
       "57   LOCAL UBICADO EN EL CENTRO COMERCIAL PARQUE CA...  \n",
       "3    ESTE INMUEBLE SE COMERCIALIZARÁ A TRAVÉS DE SU...  \n",
       "460  ¡OPORTUNIDAD PARA INVERTIR! LOCAL EN PROINDIVI...  \n",
       "458  ¡OPORTUNIDAD PARA INVERTIR! LOCAL EN PROINDIVI...  \n",
       "461  ¡OPORTUNIDAD PARA INVERTIR! LOCAL EN PROINDIVI...  "
      ]
     },
     "execution_count": 103,
     "metadata": {},
     "output_type": "execute_result"
    }
   ],
   "source": [
    "precio=df.sort_values('Estrato')\n",
    "precio.head(5)"
   ]
  },
  {
   "cell_type": "code",
   "execution_count": 104,
   "metadata": {},
   "outputs": [
    {
     "data": {
      "text/html": [
       "<div>\n",
       "<style scoped>\n",
       "    .dataframe tbody tr th:only-of-type {\n",
       "        vertical-align: middle;\n",
       "    }\n",
       "\n",
       "    .dataframe tbody tr th {\n",
       "        vertical-align: top;\n",
       "    }\n",
       "\n",
       "    .dataframe thead th {\n",
       "        text-align: right;\n",
       "    }\n",
       "</style>\n",
       "<table border=\"1\" class=\"dataframe\">\n",
       "  <thead>\n",
       "    <tr style=\"text-align: right;\">\n",
       "      <th></th>\n",
       "      <th>Codigo</th>\n",
       "      <th>Ciudad</th>\n",
       "      <th>Departamento</th>\n",
       "      <th>Barrio</th>\n",
       "      <th>Direccion</th>\n",
       "      <th>Area_Terreno</th>\n",
       "      <th>Area_Construida</th>\n",
       "      <th>Detalle_Disponibilidad</th>\n",
       "      <th>Estrato</th>\n",
       "      <th>Precio</th>\n",
       "      <th>Tipo de Inmueble</th>\n",
       "      <th>Datos Adicionales</th>\n",
       "    </tr>\n",
       "  </thead>\n",
       "  <tbody>\n",
       "    <tr>\n",
       "      <th>236</th>\n",
       "      <td>18871</td>\n",
       "      <td>SANTANDER DE QUILICHAO</td>\n",
       "      <td>CAUCA</td>\n",
       "      <td>VILLA DEL SUR</td>\n",
       "      <td>CL 9 AS # 10-49 LT 14 MZ G  BARRIO VILLA DEL S...</td>\n",
       "      <td>0.0</td>\n",
       "      <td>0.0</td>\n",
       "      <td>COMERCIALIZABLE CON RESTRICCION</td>\n",
       "      <td>UNO</td>\n",
       "      <td>1.534802e+07</td>\n",
       "      <td>LOTE CON CONSTRUCCION</td>\n",
       "      <td>LOTE DE TERRENO CON CONSTRUCCION\\n\\nEL VALOR D...</td>\n",
       "    </tr>\n",
       "    <tr>\n",
       "      <th>106</th>\n",
       "      <td>18958</td>\n",
       "      <td>CARTAGENA</td>\n",
       "      <td>BOLÍVAR</td>\n",
       "      <td>ALTO BOSQUE</td>\n",
       "      <td>Diagonal 22 No. 53 - 41 Urb. Rincón del Alto B...</td>\n",
       "      <td>0.0</td>\n",
       "      <td>0.0</td>\n",
       "      <td>COMERCIALIZABLE CON RESTRICCION</td>\n",
       "      <td>TRES</td>\n",
       "      <td>1.253700e+08</td>\n",
       "      <td>APARTAMENTO</td>\n",
       "      <td>OPORTUNIDAD DE INVERTIR EN APARTAMENTO DÚPLEX ...</td>\n",
       "    </tr>\n",
       "    <tr>\n",
       "      <th>105</th>\n",
       "      <td>18959</td>\n",
       "      <td>CARTAGENA</td>\n",
       "      <td>BOLÍVAR</td>\n",
       "      <td>ALTO BOSQUE</td>\n",
       "      <td>Diagonal 22 No. 53 - 41 Urb. Rincón del Alto B...</td>\n",
       "      <td>0.0</td>\n",
       "      <td>0.0</td>\n",
       "      <td>COMERCIALIZABLE CON RESTRICCION</td>\n",
       "      <td>TRES</td>\n",
       "      <td>1.313550e+08</td>\n",
       "      <td>APARTAMENTO</td>\n",
       "      <td>OPORTUNIDAD DE INVERTIR EN APARTAMENTO DÚPLEX ...</td>\n",
       "    </tr>\n",
       "    <tr>\n",
       "      <th>93</th>\n",
       "      <td>12115</td>\n",
       "      <td>CALIMA EL DARIEN</td>\n",
       "      <td>VALLE DEL CAUCA</td>\n",
       "      <td>VEREDA PALERMO</td>\n",
       "      <td>LT 1C</td>\n",
       "      <td>64000.0</td>\n",
       "      <td>700.0</td>\n",
       "      <td>COMERCIALIZABLE FIDUCIA</td>\n",
       "      <td>RURAL</td>\n",
       "      <td>1.042887e+09</td>\n",
       "      <td>LOTE VIVIENDA</td>\n",
       "      <td>LOTE DE TERRENO QUE HACE PARTE DEL PROYECTO CA...</td>\n",
       "    </tr>\n",
       "    <tr>\n",
       "      <th>86</th>\n",
       "      <td>11787</td>\n",
       "      <td>SANTANDER DE QUILICHAO</td>\n",
       "      <td>CAUCA</td>\n",
       "      <td>PARQUE IND CAUCADESA</td>\n",
       "      <td>LT 8 ET I  PARQUE INDUSTRIAL  CAUCADESA</td>\n",
       "      <td>46126.0</td>\n",
       "      <td>0.0</td>\n",
       "      <td>COMERCIALIZABLE CON RESTRICCION</td>\n",
       "      <td>RURAL</td>\n",
       "      <td>1.416213e+09</td>\n",
       "      <td>LOTE INDUSTRIAL</td>\n",
       "      <td>LOTE TERRENO NETO , EN PROINDIVISO, SEMI-URBAN...</td>\n",
       "    </tr>\n",
       "  </tbody>\n",
       "</table>\n",
       "</div>"
      ],
      "text/plain": [
       "     Codigo                  Ciudad     Departamento                Barrio  \\\n",
       "236   18871  SANTANDER DE QUILICHAO            CAUCA         VILLA DEL SUR   \n",
       "106   18958               CARTAGENA          BOLÍVAR           ALTO BOSQUE   \n",
       "105   18959               CARTAGENA          BOLÍVAR           ALTO BOSQUE   \n",
       "93    12115        CALIMA EL DARIEN  VALLE DEL CAUCA        VEREDA PALERMO   \n",
       "86    11787  SANTANDER DE QUILICHAO            CAUCA  PARQUE IND CAUCADESA   \n",
       "\n",
       "                                             Direccion  Area_Terreno  \\\n",
       "236  CL 9 AS # 10-49 LT 14 MZ G  BARRIO VILLA DEL S...           0.0   \n",
       "106  Diagonal 22 No. 53 - 41 Urb. Rincón del Alto B...           0.0   \n",
       "105  Diagonal 22 No. 53 - 41 Urb. Rincón del Alto B...           0.0   \n",
       "93                                               LT 1C       64000.0   \n",
       "86             LT 8 ET I  PARQUE INDUSTRIAL  CAUCADESA       46126.0   \n",
       "\n",
       "     Area_Construida           Detalle_Disponibilidad Estrato        Precio  \\\n",
       "236              0.0  COMERCIALIZABLE CON RESTRICCION     UNO  1.534802e+07   \n",
       "106              0.0  COMERCIALIZABLE CON RESTRICCION    TRES  1.253700e+08   \n",
       "105              0.0  COMERCIALIZABLE CON RESTRICCION    TRES  1.313550e+08   \n",
       "93             700.0          COMERCIALIZABLE FIDUCIA   RURAL  1.042887e+09   \n",
       "86               0.0  COMERCIALIZABLE CON RESTRICCION   RURAL  1.416213e+09   \n",
       "\n",
       "          Tipo de Inmueble                                  Datos Adicionales  \n",
       "236  LOTE CON CONSTRUCCION  LOTE DE TERRENO CON CONSTRUCCION\\n\\nEL VALOR D...  \n",
       "106            APARTAMENTO  OPORTUNIDAD DE INVERTIR EN APARTAMENTO DÚPLEX ...  \n",
       "105            APARTAMENTO  OPORTUNIDAD DE INVERTIR EN APARTAMENTO DÚPLEX ...  \n",
       "93           LOTE VIVIENDA  LOTE DE TERRENO QUE HACE PARTE DEL PROYECTO CA...  \n",
       "86         LOTE INDUSTRIAL  LOTE TERRENO NETO , EN PROINDIVISO, SEMI-URBAN...  "
      ]
     },
     "execution_count": 104,
     "metadata": {},
     "output_type": "execute_result"
    }
   ],
   "source": [
    "precio=df.sort_values('Estrato',ascending=False)\n",
    "precio.head(5)"
   ]
  },
  {
   "cell_type": "code",
   "execution_count": 105,
   "metadata": {},
   "outputs": [],
   "source": [
    "rangos=[10000000,200000000,500000000,1000000000,20000000000]"
   ]
  },
  {
   "cell_type": "code",
   "execution_count": 106,
   "metadata": {},
   "outputs": [],
   "source": [
    "nombreRango=[\"A\",\"B\",\"C\",\"D\"]"
   ]
  },
  {
   "cell_type": "code",
   "execution_count": 107,
   "metadata": {},
   "outputs": [],
   "source": [
    "df['Rango_Precio']=pd.cut(df['Precio'],rangos,labels=nombreRango)"
   ]
  },
  {
   "cell_type": "code",
   "execution_count": 108,
   "metadata": {},
   "outputs": [
    {
     "data": {
      "text/html": [
       "<div>\n",
       "<style scoped>\n",
       "    .dataframe tbody tr th:only-of-type {\n",
       "        vertical-align: middle;\n",
       "    }\n",
       "\n",
       "    .dataframe tbody tr th {\n",
       "        vertical-align: top;\n",
       "    }\n",
       "\n",
       "    .dataframe thead th {\n",
       "        text-align: right;\n",
       "    }\n",
       "</style>\n",
       "<table border=\"1\" class=\"dataframe\">\n",
       "  <thead>\n",
       "    <tr style=\"text-align: right;\">\n",
       "      <th></th>\n",
       "      <th>Codigo</th>\n",
       "      <th>Ciudad</th>\n",
       "      <th>Departamento</th>\n",
       "      <th>Barrio</th>\n",
       "      <th>Direccion</th>\n",
       "      <th>Area_Terreno</th>\n",
       "      <th>Area_Construida</th>\n",
       "      <th>Detalle_Disponibilidad</th>\n",
       "      <th>Estrato</th>\n",
       "      <th>Precio</th>\n",
       "      <th>Tipo de Inmueble</th>\n",
       "      <th>Datos Adicionales</th>\n",
       "      <th>Rango_Precio</th>\n",
       "    </tr>\n",
       "  </thead>\n",
       "  <tbody>\n",
       "    <tr>\n",
       "      <th>3</th>\n",
       "      <td>2575</td>\n",
       "      <td>SOGAMOSO</td>\n",
       "      <td>BOYACÁ</td>\n",
       "      <td>CENTRO</td>\n",
       "      <td>CRA. 10 #11- 78/80 Ó CL 12 # 9 - 77/85 Ó CALLE...</td>\n",
       "      <td>1655.08</td>\n",
       "      <td>7269.00</td>\n",
       "      <td>COMERCIALIZABLE CON RESTRICCION</td>\n",
       "      <td>CUATRO</td>\n",
       "      <td>1.376828e+10</td>\n",
       "      <td>CLINICA</td>\n",
       "      <td>ESTE INMUEBLE SE COMERCIALIZARÁ A TRAVÉS DE SU...</td>\n",
       "      <td>D</td>\n",
       "    </tr>\n",
       "    <tr>\n",
       "      <th>37</th>\n",
       "      <td>12120</td>\n",
       "      <td>CALIMA EL DARIEN</td>\n",
       "      <td>VALLE DEL CAUCA</td>\n",
       "      <td>VEREDA PALERMO</td>\n",
       "      <td>LT 2</td>\n",
       "      <td>337995.00</td>\n",
       "      <td>0.00</td>\n",
       "      <td>COMERCIALIZABLE FIDUCIA</td>\n",
       "      <td>RURAL</td>\n",
       "      <td>5.171324e+09</td>\n",
       "      <td>LOTE VIVIENDA</td>\n",
       "      <td>EXCELENTE LOTE CON VISTA AL LAGO CALIMA, UBICA...</td>\n",
       "      <td>D</td>\n",
       "    </tr>\n",
       "    <tr>\n",
       "      <th>43</th>\n",
       "      <td>10106</td>\n",
       "      <td>BARRANQUILLA</td>\n",
       "      <td>ATLÁNTICO</td>\n",
       "      <td>CENTRO</td>\n",
       "      <td>CALLE 39 NO 43 58 62 LC 1</td>\n",
       "      <td>0.00</td>\n",
       "      <td>0.00</td>\n",
       "      <td>COMERCIALIZABLE CON RESTRICCION</td>\n",
       "      <td>DOS</td>\n",
       "      <td>7.303790e+08</td>\n",
       "      <td>LOCAL</td>\n",
       "      <td>DESEAS INVERTIR ESTA ES LA OPORTUNIDAD LOCAL E...</td>\n",
       "      <td>C</td>\n",
       "    </tr>\n",
       "    <tr>\n",
       "      <th>49</th>\n",
       "      <td>12117</td>\n",
       "      <td>CALIMA EL DARIEN</td>\n",
       "      <td>VALLE DEL CAUCA</td>\n",
       "      <td>VEREDA PALERMO</td>\n",
       "      <td>LT 3B2</td>\n",
       "      <td>134000.00</td>\n",
       "      <td>763.06</td>\n",
       "      <td>COMERCIALIZABLE FIDUCIA</td>\n",
       "      <td>RURAL</td>\n",
       "      <td>3.027405e+09</td>\n",
       "      <td>LOTE VIVIENDA</td>\n",
       "      <td>CISA VENDE DERECHOS FIDUCIARIOS DEL 9.48%\\n\\nF...</td>\n",
       "      <td>D</td>\n",
       "    </tr>\n",
       "    <tr>\n",
       "      <th>54</th>\n",
       "      <td>12114</td>\n",
       "      <td>CALIMA EL DARIEN</td>\n",
       "      <td>VALLE DEL CAUCA</td>\n",
       "      <td>VEREDA PALERMO</td>\n",
       "      <td>LT 1B</td>\n",
       "      <td>175982.00</td>\n",
       "      <td>0.00</td>\n",
       "      <td>COMERCIALIZABLE FIDUCIA</td>\n",
       "      <td>RURAL</td>\n",
       "      <td>2.704525e+09</td>\n",
       "      <td>LOTE VIVIENDA</td>\n",
       "      <td>CISA VENDE DERECHOS FIDUCIARIOS DEL 9.48%\\n\\nF...</td>\n",
       "      <td>D</td>\n",
       "    </tr>\n",
       "  </tbody>\n",
       "</table>\n",
       "</div>"
      ],
      "text/plain": [
       "    Codigo            Ciudad     Departamento          Barrio  \\\n",
       "3     2575          SOGAMOSO           BOYACÁ          CENTRO   \n",
       "37   12120  CALIMA EL DARIEN  VALLE DEL CAUCA  VEREDA PALERMO   \n",
       "43   10106      BARRANQUILLA        ATLÁNTICO          CENTRO   \n",
       "49   12117  CALIMA EL DARIEN  VALLE DEL CAUCA  VEREDA PALERMO   \n",
       "54   12114  CALIMA EL DARIEN  VALLE DEL CAUCA  VEREDA PALERMO   \n",
       "\n",
       "                                            Direccion  Area_Terreno  \\\n",
       "3   CRA. 10 #11- 78/80 Ó CL 12 # 9 - 77/85 Ó CALLE...       1655.08   \n",
       "37                                               LT 2     337995.00   \n",
       "43                          CALLE 39 NO 43 58 62 LC 1          0.00   \n",
       "49                                             LT 3B2     134000.00   \n",
       "54                                              LT 1B     175982.00   \n",
       "\n",
       "    Area_Construida           Detalle_Disponibilidad Estrato        Precio  \\\n",
       "3           7269.00  COMERCIALIZABLE CON RESTRICCION  CUATRO  1.376828e+10   \n",
       "37             0.00          COMERCIALIZABLE FIDUCIA   RURAL  5.171324e+09   \n",
       "43             0.00  COMERCIALIZABLE CON RESTRICCION     DOS  7.303790e+08   \n",
       "49           763.06          COMERCIALIZABLE FIDUCIA   RURAL  3.027405e+09   \n",
       "54             0.00          COMERCIALIZABLE FIDUCIA   RURAL  2.704525e+09   \n",
       "\n",
       "   Tipo de Inmueble                                  Datos Adicionales  \\\n",
       "3           CLINICA  ESTE INMUEBLE SE COMERCIALIZARÁ A TRAVÉS DE SU...   \n",
       "37    LOTE VIVIENDA  EXCELENTE LOTE CON VISTA AL LAGO CALIMA, UBICA...   \n",
       "43            LOCAL  DESEAS INVERTIR ESTA ES LA OPORTUNIDAD LOCAL E...   \n",
       "49    LOTE VIVIENDA  CISA VENDE DERECHOS FIDUCIARIOS DEL 9.48%\\n\\nF...   \n",
       "54    LOTE VIVIENDA  CISA VENDE DERECHOS FIDUCIARIOS DEL 9.48%\\n\\nF...   \n",
       "\n",
       "   Rango_Precio  \n",
       "3             D  \n",
       "37            D  \n",
       "43            C  \n",
       "49            D  \n",
       "54            D  "
      ]
     },
     "execution_count": 108,
     "metadata": {},
     "output_type": "execute_result"
    }
   ],
   "source": [
    "df.head()"
   ]
  },
  {
   "cell_type": "code",
   "execution_count": 109,
   "metadata": {},
   "outputs": [],
   "source": [
    "import matplotlib.pyplot as plt"
   ]
  },
  {
   "cell_type": "code",
   "execution_count": 110,
   "metadata": {},
   "outputs": [],
   "source": [
    "import seaborn as sns"
   ]
  },
  {
   "cell_type": "code",
   "execution_count": 111,
   "metadata": {},
   "outputs": [
    {
     "data": {
      "text/plain": [
       "array([[<AxesSubplot:title={'center':'Codigo'}>,\n",
       "        <AxesSubplot:title={'center':'Area_Terreno'}>],\n",
       "       [<AxesSubplot:title={'center':'Area_Construida'}>,\n",
       "        <AxesSubplot:title={'center':'Precio'}>]], dtype=object)"
      ]
     },
     "execution_count": 111,
     "metadata": {},
     "output_type": "execute_result"
    },
    {
     "data": {
      "image/png": "[encoded data removed]",
      "text/plain": [
       "<Figure size 2000x1000 with 4 Axes>"
      ]
     },
     "metadata": {},
     "output_type": "display_data"
    }
   ],
   "source": [
    "df.hist(bins=20,figsize=(20,10))"
   ]
  },
  {
   "cell_type": "code",
   "execution_count": 112,
   "metadata": {},
   "outputs": [
    {
     "data": {
      "image/png": "[encoded data removed]",
      "text/plain": [
       "<Figure size 640x480 with 1 Axes>"
      ]
     },
     "metadata": {},
     "output_type": "display_data"
    }
   ],
   "source": [
    "sns.histplot(df.Precio,color=\"b\",bins=15,kde=True)\n",
    "plt.show()"
   ]
  },
  {
   "cell_type": "code",
   "execution_count": 113,
   "metadata": {},
   "outputs": [
    {
     "name": "stderr",
     "output_type": "stream",
     "text": [
      "c:\\Users\\Edward\\anaconda3\\lib\\site-packages\\seaborn\\_decorators.py:36: FutureWarning: Pass the following variable as a keyword arg: x. From version 0.12, the only valid positional argument will be `data`, and passing other arguments without an explicit keyword will result in an error or misinterpretation.\n",
      "  warnings.warn(\n"
     ]
    },
    {
     "data": {
      "image/png": "[encoded data removed]",
      "text/plain": [
       "<Figure size 640x480 with 1 Axes>"
      ]
     },
     "metadata": {},
     "output_type": "display_data"
    }
   ],
   "source": [
    "plt. Figure(figsize=(5,2))\n",
    "sns.countplot(df.Rango_Precio)\n",
    "plt.show()"
   ]
  },
  {
   "cell_type": "code",
   "execution_count": 114,
   "metadata": {},
   "outputs": [
    {
     "data": {
      "image/png": "[encoded data removed]",
      "text/plain": [
       "<Figure size 640x480 with 1 Axes>"
      ]
     },
     "metadata": {},
     "output_type": "display_data"
    }
   ],
   "source": [
    "total_rango_edad =df['Rango_Precio'].groupby(df['Rango_Precio']).count()\n",
    "labels = [\"A\", \"B\", \"C\", \"D\"]\n",
    "colors = sns.color_palette('Set2')[0:5]\n",
    "plt.pie(total_rango_edad, labels = labels, colors = colors, autopct='%.1f%%')\n",
    "plt.show()"
   ]
  },
  {
   "cell_type": "code",
   "execution_count": 115,
   "metadata": {},
   "outputs": [
    {
     "data": {
      "image/png": "[encoded data removed]",
      "text/plain": [
       "<Figure size 640x480 with 1 Axes>"
      ]
     },
     "metadata": {},
     "output_type": "display_data"
    }
   ],
   "source": [
    "Redad_valor =sns.boxplot(x=df[\"Precio\"],\n",
    "y=df[\"Departamento\"])"
   ]
  },
  {
   "cell_type": "code",
   "execution_count": 116,
   "metadata": {},
   "outputs": [
    {
     "data": {
      "image/png": "[encoded data removed]",
      "text/plain": [
       "<Figure size 640x480 with 1 Axes>"
      ]
     },
     "metadata": {},
     "output_type": "display_data"
    }
   ],
   "source": [
    "fumador_valor =sns.boxplot(x=df[\"Estrato\"],\n",
    "y=df[\"Precio\"])"
   ]
  }
 ],
 "metadata": {
  "kernelspec": {
   "display_name": "Python 3.9.13 ('base')",
   "language": "python",
   "name": "python3"
  },
  "language_info": {
   "codemirror_mode": {
    "name": "ipython",
    "version": 3
   },
   "file_extension": ".py",
   "mimetype": "text/x-python",
   "name": "python",
   "nbconvert_exporter": "python",
   "pygments_lexer": "ipython3",
   "version": "3.9.13"
  },
  "orig_nbformat": 4,
  "vscode": {
   "interpreter": {
    "hash": "00c6814f8c0fe7cf93daefa9ee5817d90a5bdebd7d4acf5bc3ec852c7fd4cbb0"
   }
  }
 },
 "nbformat": 4,
 "nbformat_minor": 2
}
