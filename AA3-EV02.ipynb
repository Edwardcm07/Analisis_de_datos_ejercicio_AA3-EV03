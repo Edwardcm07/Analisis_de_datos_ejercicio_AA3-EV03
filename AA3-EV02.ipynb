{
 "cells": [
  {
   "cell_type": "code",
   "execution_count": 1,
   "metadata": {},
   "outputs": [],
   "source": [
    "import pandas as pd"
   ]
  },
  {
   "cell_type": "code",
   "execution_count": 3,
   "metadata": {},
   "outputs": [],
   "source": [
    "df = pd.read_csv('Data_Caso_Propuesto.csv')"
   ]
  },
  {
   "cell_type": "code",
   "execution_count": 4,
   "metadata": {},
   "outputs": [
    {
     "name": "stdout",
     "output_type": "stream",
     "text": [
      "<class 'pandas.core.frame.DataFrame'>\n",
      "RangeIndex: 463 entries, 0 to 462\n",
      "Data columns (total 12 columns):\n",
      " #   Column                  Non-Null Count  Dtype  \n",
      "---  ------                  --------------  -----  \n",
      " 0   Codigo                  463 non-null    int64  \n",
      " 1   Ciudad                  463 non-null    object \n",
      " 2   Departamento            463 non-null    object \n",
      " 3   Barrio                  40 non-null     object \n",
      " 4   Direccion               463 non-null    object \n",
      " 5   Area Terreno            463 non-null    float64\n",
      " 6   Area Construida         463 non-null    float64\n",
      " 7   Detalle Disponibilidad  463 non-null    object \n",
      " 8   Estrato                 463 non-null    object \n",
      " 9   Precio                  463 non-null    float64\n",
      " 10  Tipo de Inmueble        463 non-null    object \n",
      " 11  Datos Adicionales       118 non-null    object \n",
      "dtypes: float64(3), int64(1), object(8)\n",
      "memory usage: 43.5+ KB\n"
     ]
    }
   ],
   "source": [
    "df.info()"
   ]
  },
  {
   "cell_type": "code",
   "execution_count": 5,
   "metadata": {},
   "outputs": [
    {
     "data": {
      "text/plain": [
       "Codigo                      0\n",
       "Ciudad                      0\n",
       "Departamento                0\n",
       "Barrio                    423\n",
       "Direccion                   0\n",
       "Area Terreno                0\n",
       "Area Construida             0\n",
       "Detalle Disponibilidad      0\n",
       "Estrato                     0\n",
       "Precio                      0\n",
       "Tipo de Inmueble            0\n",
       "Datos Adicionales         345\n",
       "dtype: int64"
      ]
     },
     "execution_count": 5,
     "metadata": {},
     "output_type": "execute_result"
    }
   ],
   "source": [
    "df.isnull().sum()"
   ]
  },
  {
   "cell_type": "code",
   "execution_count": 9,
   "metadata": {},
   "outputs": [],
   "source": [
    "df=df.drop_duplicates()"
   ]
  },
  {
   "cell_type": "code",
   "execution_count": 10,
   "metadata": {},
   "outputs": [
    {
     "name": "stdout",
     "output_type": "stream",
     "text": [
      "<class 'pandas.core.frame.DataFrame'>\n",
      "Int64Index: 463 entries, 0 to 462\n",
      "Data columns (total 12 columns):\n",
      " #   Column                  Non-Null Count  Dtype  \n",
      "---  ------                  --------------  -----  \n",
      " 0   Codigo                  463 non-null    int64  \n",
      " 1   Ciudad                  463 non-null    object \n",
      " 2   Departamento            463 non-null    object \n",
      " 3   Barrio                  40 non-null     object \n",
      " 4   Direccion               463 non-null    object \n",
      " 5   Area Terreno            463 non-null    float64\n",
      " 6   Area Construida         463 non-null    float64\n",
      " 7   Detalle Disponibilidad  463 non-null    object \n",
      " 8   Estrato                 463 non-null    object \n",
      " 9   Precio                  463 non-null    float64\n",
      " 10  Tipo de Inmueble        463 non-null    object \n",
      " 11  Datos Adicionales       118 non-null    object \n",
      "dtypes: float64(3), int64(1), object(8)\n",
      "memory usage: 47.0+ KB\n"
     ]
    }
   ],
   "source": [
    "df.info()"
   ]
  },
  {
   "cell_type": "code",
   "execution_count": 11,
   "metadata": {},
   "outputs": [
    {
     "data": {
      "text/html": [
       "<div>\n",
       "<style scoped>\n",
       "    .dataframe tbody tr th:only-of-type {\n",
       "        vertical-align: middle;\n",
       "    }\n",
       "\n",
       "    .dataframe tbody tr th {\n",
       "        vertical-align: top;\n",
       "    }\n",
       "\n",
       "    .dataframe thead th {\n",
       "        text-align: right;\n",
       "    }\n",
       "</style>\n",
       "<table border=\"1\" class=\"dataframe\">\n",
       "  <thead>\n",
       "    <tr style=\"text-align: right;\">\n",
       "      <th></th>\n",
       "      <th>Codigo</th>\n",
       "      <th>Area Terreno</th>\n",
       "      <th>Area Construida</th>\n",
       "      <th>Precio</th>\n",
       "    </tr>\n",
       "  </thead>\n",
       "  <tbody>\n",
       "    <tr>\n",
       "      <th>count</th>\n",
       "      <td>463.000000</td>\n",
       "      <td>4.630000e+02</td>\n",
       "      <td>463.000000</td>\n",
       "      <td>4.630000e+02</td>\n",
       "    </tr>\n",
       "    <tr>\n",
       "      <th>mean</th>\n",
       "      <td>18003.151188</td>\n",
       "      <td>1.515204e+04</td>\n",
       "      <td>87.517279</td>\n",
       "      <td>6.672032e+08</td>\n",
       "    </tr>\n",
       "    <tr>\n",
       "      <th>std</th>\n",
       "      <td>1992.191499</td>\n",
       "      <td>1.827101e+05</td>\n",
       "      <td>1137.469077</td>\n",
       "      <td>3.272992e+09</td>\n",
       "    </tr>\n",
       "    <tr>\n",
       "      <th>min</th>\n",
       "      <td>2575.000000</td>\n",
       "      <td>0.000000e+00</td>\n",
       "      <td>0.000000</td>\n",
       "      <td>4.650000e+06</td>\n",
       "    </tr>\n",
       "    <tr>\n",
       "      <th>25%</th>\n",
       "      <td>18184.500000</td>\n",
       "      <td>0.000000e+00</td>\n",
       "      <td>0.000000</td>\n",
       "      <td>1.230500e+07</td>\n",
       "    </tr>\n",
       "    <tr>\n",
       "      <th>50%</th>\n",
       "      <td>18332.000000</td>\n",
       "      <td>0.000000e+00</td>\n",
       "      <td>0.000000</td>\n",
       "      <td>1.587000e+07</td>\n",
       "    </tr>\n",
       "    <tr>\n",
       "      <th>75%</th>\n",
       "      <td>18539.500000</td>\n",
       "      <td>0.000000e+00</td>\n",
       "      <td>0.000000</td>\n",
       "      <td>1.379955e+08</td>\n",
       "    </tr>\n",
       "    <tr>\n",
       "      <th>max</th>\n",
       "      <td>19344.000000</td>\n",
       "      <td>3.217197e+06</td>\n",
       "      <td>22724.000000</td>\n",
       "      <td>4.523379e+10</td>\n",
       "    </tr>\n",
       "  </tbody>\n",
       "</table>\n",
       "</div>"
      ],
      "text/plain": [
       "             Codigo  Area Terreno  Area Construida        Precio\n",
       "count    463.000000  4.630000e+02       463.000000  4.630000e+02\n",
       "mean   18003.151188  1.515204e+04        87.517279  6.672032e+08\n",
       "std     1992.191499  1.827101e+05      1137.469077  3.272992e+09\n",
       "min     2575.000000  0.000000e+00         0.000000  4.650000e+06\n",
       "25%    18184.500000  0.000000e+00         0.000000  1.230500e+07\n",
       "50%    18332.000000  0.000000e+00         0.000000  1.587000e+07\n",
       "75%    18539.500000  0.000000e+00         0.000000  1.379955e+08\n",
       "max    19344.000000  3.217197e+06     22724.000000  4.523379e+10"
      ]
     },
     "execution_count": 11,
     "metadata": {},
     "output_type": "execute_result"
    }
   ],
   "source": [
    "df.describe()"
   ]
  },
  {
   "cell_type": "code",
   "execution_count": 12,
   "metadata": {},
   "outputs": [],
   "source": [
    "import matplotlib.pyplot as plt"
   ]
  },
  {
   "cell_type": "code",
   "execution_count": 13,
   "metadata": {},
   "outputs": [],
   "source": [
    "import seaborn as sns"
   ]
  },
  {
   "cell_type": "code",
   "execution_count": 18,
   "metadata": {},
   "outputs": [
    {
     "data": {
      "text/plain": [
       "array([[<AxesSubplot:title={'center':'Codigo'}>,\n",
       "        <AxesSubplot:title={'center':'Area Terreno'}>],\n",
       "       [<AxesSubplot:title={'center':'Area Construida'}>,\n",
       "        <AxesSubplot:title={'center':'Precio'}>]], dtype=object)"
      ]
     },
     "execution_count": 18,
     "metadata": {},
     "output_type": "execute_result"
    },
    {
     "data": {
      "image/png": "[encoded data removed]",
      "text/plain": [
       "<Figure size 2000x1000 with 4 Axes>"
      ]
     },
     "metadata": {},
     "output_type": "display_data"
    }
   ],
   "source": [
    "df.hist(bins=20,figsize=(20,10))"
   ]
  },
  {
   "cell_type": "code",
   "execution_count": 25,
   "metadata": {},
   "outputs": [
    {
     "data": {
      "text/html": [
       "<div>\n",
       "<style scoped>\n",
       "    .dataframe tbody tr th:only-of-type {\n",
       "        vertical-align: middle;\n",
       "    }\n",
       "\n",
       "    .dataframe tbody tr th {\n",
       "        vertical-align: top;\n",
       "    }\n",
       "\n",
       "    .dataframe thead th {\n",
       "        text-align: right;\n",
       "    }\n",
       "</style>\n",
       "<table border=\"1\" class=\"dataframe\">\n",
       "  <thead>\n",
       "    <tr style=\"text-align: right;\">\n",
       "      <th></th>\n",
       "      <th>Codigo</th>\n",
       "      <th>Ciudad</th>\n",
       "      <th>Departamento</th>\n",
       "      <th>Barrio</th>\n",
       "      <th>Direccion</th>\n",
       "      <th>Area Terreno</th>\n",
       "      <th>Area Construida</th>\n",
       "      <th>Detalle Disponibilidad</th>\n",
       "      <th>Estrato</th>\n",
       "      <th>Precio</th>\n",
       "      <th>Tipo de Inmueble</th>\n",
       "      <th>Datos Adicionales</th>\n",
       "    </tr>\n",
       "  </thead>\n",
       "  <tbody>\n",
       "    <tr>\n",
       "      <th>455</th>\n",
       "      <td>17009</td>\n",
       "      <td>VALENCIA</td>\n",
       "      <td>CÓRDOBA</td>\n",
       "      <td>NaN</td>\n",
       "      <td>CALLE PRINCIPAL - CORREGIMIENTO GUADUAL</td>\n",
       "      <td>0.0</td>\n",
       "      <td>0.0</td>\n",
       "      <td>COMERCIALIZABLE</td>\n",
       "      <td>RURAL</td>\n",
       "      <td>4650000.0</td>\n",
       "      <td>LOTE AGRICOLA</td>\n",
       "      <td>LOTE RURAL DE USO AGRICOLA LOCALIZADO DEN LA V...</td>\n",
       "    </tr>\n",
       "    <tr>\n",
       "      <th>453</th>\n",
       "      <td>17337</td>\n",
       "      <td>PEREIRA</td>\n",
       "      <td>RISARALDA</td>\n",
       "      <td>AV 30 DE AGOSTO</td>\n",
       "      <td>CL 69  O ACCESO A CUBA  AV 30 DE AGOSTO  LOTE ...</td>\n",
       "      <td>0.0</td>\n",
       "      <td>0.0</td>\n",
       "      <td>COMERCIALIZABLE CON RESTRICCION</td>\n",
       "      <td>DOS</td>\n",
       "      <td>6333900.0</td>\n",
       "      <td>LOTE VIVIENDA</td>\n",
       "      <td>NaN</td>\n",
       "    </tr>\n",
       "    <tr>\n",
       "      <th>451</th>\n",
       "      <td>17336</td>\n",
       "      <td>PEREIRA</td>\n",
       "      <td>RISARALDA</td>\n",
       "      <td>AV 30 DE AGOSTO</td>\n",
       "      <td>CL 69  Ó ACCESO A CUBA  AV 30 DE AGOSTO  LOTE 13</td>\n",
       "      <td>0.0</td>\n",
       "      <td>0.0</td>\n",
       "      <td>COMERCIALIZABLE CON RESTRICCION</td>\n",
       "      <td>DOS</td>\n",
       "      <td>6832720.0</td>\n",
       "      <td>LOTE VIVIENDA</td>\n",
       "      <td>NaN</td>\n",
       "    </tr>\n",
       "    <tr>\n",
       "      <th>450</th>\n",
       "      <td>18447</td>\n",
       "      <td>VILLAVICENCIO</td>\n",
       "      <td>META</td>\n",
       "      <td>NaN</td>\n",
       "      <td>CENTRAL MINORISTA DE ABASTOS DE VILLAVICENCIO ...</td>\n",
       "      <td>0.0</td>\n",
       "      <td>0.0</td>\n",
       "      <td>COMERCIALIZABLE</td>\n",
       "      <td>COMERCIAL</td>\n",
       "      <td>6835500.0</td>\n",
       "      <td>LOCAL</td>\n",
       "      <td>NaN</td>\n",
       "    </tr>\n",
       "    <tr>\n",
       "      <th>449</th>\n",
       "      <td>18137</td>\n",
       "      <td>VILLAVICENCIO</td>\n",
       "      <td>META</td>\n",
       "      <td>NaN</td>\n",
       "      <td>CENTRAL MINORISTA DE ABASTOS DE VILLAVICENCIO ...</td>\n",
       "      <td>0.0</td>\n",
       "      <td>0.0</td>\n",
       "      <td>COMERCIALIZABLE</td>\n",
       "      <td>COMERCIAL</td>\n",
       "      <td>6884500.0</td>\n",
       "      <td>LOCAL</td>\n",
       "      <td>NaN</td>\n",
       "    </tr>\n",
       "  </tbody>\n",
       "</table>\n",
       "</div>"
      ],
      "text/plain": [
       "     Codigo         Ciudad Departamento           Barrio  \\\n",
       "455   17009       VALENCIA      CÓRDOBA              NaN   \n",
       "453   17337        PEREIRA    RISARALDA  AV 30 DE AGOSTO   \n",
       "451   17336        PEREIRA    RISARALDA  AV 30 DE AGOSTO   \n",
       "450   18447  VILLAVICENCIO         META              NaN   \n",
       "449   18137  VILLAVICENCIO         META              NaN   \n",
       "\n",
       "                                             Direccion  Area Terreno  \\\n",
       "455            CALLE PRINCIPAL - CORREGIMIENTO GUADUAL           0.0   \n",
       "453  CL 69  O ACCESO A CUBA  AV 30 DE AGOSTO  LOTE ...           0.0   \n",
       "451   CL 69  Ó ACCESO A CUBA  AV 30 DE AGOSTO  LOTE 13           0.0   \n",
       "450  CENTRAL MINORISTA DE ABASTOS DE VILLAVICENCIO ...           0.0   \n",
       "449  CENTRAL MINORISTA DE ABASTOS DE VILLAVICENCIO ...           0.0   \n",
       "\n",
       "     Area Construida           Detalle Disponibilidad    Estrato     Precio  \\\n",
       "455              0.0                  COMERCIALIZABLE      RURAL  4650000.0   \n",
       "453              0.0  COMERCIALIZABLE CON RESTRICCION        DOS  6333900.0   \n",
       "451              0.0  COMERCIALIZABLE CON RESTRICCION        DOS  6832720.0   \n",
       "450              0.0                  COMERCIALIZABLE  COMERCIAL  6835500.0   \n",
       "449              0.0                  COMERCIALIZABLE  COMERCIAL  6884500.0   \n",
       "\n",
       "    Tipo de Inmueble                                  Datos Adicionales  \n",
       "455    LOTE AGRICOLA  LOTE RURAL DE USO AGRICOLA LOCALIZADO DEN LA V...  \n",
       "453    LOTE VIVIENDA                                                NaN  \n",
       "451    LOTE VIVIENDA                                                NaN  \n",
       "450            LOCAL                                                NaN  \n",
       "449            LOCAL                                                NaN  "
      ]
     },
     "execution_count": 25,
     "metadata": {},
     "output_type": "execute_result"
    }
   ],
   "source": [
    "precio=df.sort_values('Precio')\n",
    "precio.head(5)"
   ]
  },
  {
   "cell_type": "code",
   "execution_count": 26,
   "metadata": {},
   "outputs": [
    {
     "data": {
      "text/html": [
       "<div>\n",
       "<style scoped>\n",
       "    .dataframe tbody tr th:only-of-type {\n",
       "        vertical-align: middle;\n",
       "    }\n",
       "\n",
       "    .dataframe tbody tr th {\n",
       "        vertical-align: top;\n",
       "    }\n",
       "\n",
       "    .dataframe thead th {\n",
       "        text-align: right;\n",
       "    }\n",
       "</style>\n",
       "<table border=\"1\" class=\"dataframe\">\n",
       "  <thead>\n",
       "    <tr style=\"text-align: right;\">\n",
       "      <th></th>\n",
       "      <th>Codigo</th>\n",
       "      <th>Ciudad</th>\n",
       "      <th>Departamento</th>\n",
       "      <th>Barrio</th>\n",
       "      <th>Direccion</th>\n",
       "      <th>Area Terreno</th>\n",
       "      <th>Area Construida</th>\n",
       "      <th>Detalle Disponibilidad</th>\n",
       "      <th>Estrato</th>\n",
       "      <th>Precio</th>\n",
       "      <th>Tipo de Inmueble</th>\n",
       "      <th>Datos Adicionales</th>\n",
       "    </tr>\n",
       "  </thead>\n",
       "  <tbody>\n",
       "    <tr>\n",
       "      <th>4</th>\n",
       "      <td>11409</td>\n",
       "      <td>BUGA</td>\n",
       "      <td>VALLE DEL CAUCA</td>\n",
       "      <td>VEREDA CHAMBIMBAL</td>\n",
       "      <td>LT A1-A24 B1-B79 C1-C51 D1-D9 STA ROSA LT1-46 ...</td>\n",
       "      <td>3217197.0</td>\n",
       "      <td>22724.0</td>\n",
       "      <td>COMERCIALIZABLE FIDUCIA</td>\n",
       "      <td>RURAL</td>\n",
       "      <td>4.523379e+10</td>\n",
       "      <td>LOTE MIXTO</td>\n",
       "      <td>NaN</td>\n",
       "    </tr>\n",
       "    <tr>\n",
       "      <th>0</th>\n",
       "      <td>17180</td>\n",
       "      <td>BOGOTA</td>\n",
       "      <td>CUNDINAMARCA</td>\n",
       "      <td>NaN</td>\n",
       "      <td>AV CR 7 NO. 166 - 51 LT B</td>\n",
       "      <td>0.0</td>\n",
       "      <td>0.0</td>\n",
       "      <td>COMERCIALIZABLE CON RESTRICCION</td>\n",
       "      <td>TRES</td>\n",
       "      <td>2.958081e+10</td>\n",
       "      <td>LOTE COMERCIAL</td>\n",
       "      <td>ESTE INMUEBLE SE COMERCIALIZARÁ A TRAVES DE SU...</td>\n",
       "    </tr>\n",
       "    <tr>\n",
       "      <th>19</th>\n",
       "      <td>17745</td>\n",
       "      <td>BOGOTA</td>\n",
       "      <td>CUNDINAMARCA</td>\n",
       "      <td>NaN</td>\n",
       "      <td>CALLE 22D NO. 120-19  -FONTIBÓN</td>\n",
       "      <td>0.0</td>\n",
       "      <td>0.0</td>\n",
       "      <td>COMERCIALIZABLE CON RESTRICCION</td>\n",
       "      <td>INDUSTRIAL</td>\n",
       "      <td>2.541654e+10</td>\n",
       "      <td>BODEGA</td>\n",
       "      <td>NaN</td>\n",
       "    </tr>\n",
       "    <tr>\n",
       "      <th>36</th>\n",
       "      <td>18640</td>\n",
       "      <td>LA DORADA</td>\n",
       "      <td>CALDAS</td>\n",
       "      <td>NaN</td>\n",
       "      <td>INMUEBLE DENOMINADO MORROCOYAL</td>\n",
       "      <td>0.0</td>\n",
       "      <td>0.0</td>\n",
       "      <td>COMERCIALIZABLE CON RESTRICCION</td>\n",
       "      <td>COMERCIAL</td>\n",
       "      <td>1.952213e+10</td>\n",
       "      <td>FINCA</td>\n",
       "      <td>LOTE UBICADO EN SECTOR FERIAS VIEJAS DE LS DOR...</td>\n",
       "    </tr>\n",
       "    <tr>\n",
       "      <th>1</th>\n",
       "      <td>19292</td>\n",
       "      <td>BOGOTA</td>\n",
       "      <td>CUNDINAMARCA</td>\n",
       "      <td>NaN</td>\n",
       "      <td>CL 72 No. 12 - 77</td>\n",
       "      <td>0.0</td>\n",
       "      <td>0.0</td>\n",
       "      <td>COMERCIALIZABLE</td>\n",
       "      <td>COMERCIAL</td>\n",
       "      <td>1.646059e+10</td>\n",
       "      <td>EDIFICIO</td>\n",
       "      <td>NaN</td>\n",
       "    </tr>\n",
       "  </tbody>\n",
       "</table>\n",
       "</div>"
      ],
      "text/plain": [
       "    Codigo     Ciudad     Departamento             Barrio  \\\n",
       "4    11409       BUGA  VALLE DEL CAUCA  VEREDA CHAMBIMBAL   \n",
       "0    17180     BOGOTA     CUNDINAMARCA                NaN   \n",
       "19   17745     BOGOTA     CUNDINAMARCA                NaN   \n",
       "36   18640  LA DORADA           CALDAS                NaN   \n",
       "1    19292     BOGOTA     CUNDINAMARCA                NaN   \n",
       "\n",
       "                                            Direccion  Area Terreno  \\\n",
       "4   LT A1-A24 B1-B79 C1-C51 D1-D9 STA ROSA LT1-46 ...     3217197.0   \n",
       "0                           AV CR 7 NO. 166 - 51 LT B           0.0   \n",
       "19                    CALLE 22D NO. 120-19  -FONTIBÓN           0.0   \n",
       "36                     INMUEBLE DENOMINADO MORROCOYAL           0.0   \n",
       "1                                   CL 72 No. 12 - 77           0.0   \n",
       "\n",
       "    Area Construida           Detalle Disponibilidad     Estrato  \\\n",
       "4           22724.0          COMERCIALIZABLE FIDUCIA       RURAL   \n",
       "0               0.0  COMERCIALIZABLE CON RESTRICCION        TRES   \n",
       "19              0.0  COMERCIALIZABLE CON RESTRICCION  INDUSTRIAL   \n",
       "36              0.0  COMERCIALIZABLE CON RESTRICCION   COMERCIAL   \n",
       "1               0.0                  COMERCIALIZABLE   COMERCIAL   \n",
       "\n",
       "          Precio Tipo de Inmueble  \\\n",
       "4   4.523379e+10       LOTE MIXTO   \n",
       "0   2.958081e+10   LOTE COMERCIAL   \n",
       "19  2.541654e+10           BODEGA   \n",
       "36  1.952213e+10            FINCA   \n",
       "1   1.646059e+10         EDIFICIO   \n",
       "\n",
       "                                    Datos Adicionales  \n",
       "4                                                 NaN  \n",
       "0   ESTE INMUEBLE SE COMERCIALIZARÁ A TRAVES DE SU...  \n",
       "19                                                NaN  \n",
       "36  LOTE UBICADO EN SECTOR FERIAS VIEJAS DE LS DOR...  \n",
       "1                                                 NaN  "
      ]
     },
     "execution_count": 26,
     "metadata": {},
     "output_type": "execute_result"
    }
   ],
   "source": [
    "precio=df.sort_values('Precio',ascending=False)\n",
    "precio.head(5)"
   ]
  },
  {
   "cell_type": "code",
   "execution_count": null,
   "metadata": {},
   "outputs": [],
   "source": [
    "plt. Figure(figsize=(10,7))\n",
    "sns.countplot(df.Rango_Edad)plt.show()"
   ]
  }
 ],
 "metadata": {
  "kernelspec": {
   "display_name": "Python 3.9.13 ('base')",
   "language": "python",
   "name": "python3"
  },
  "language_info": {
   "codemirror_mode": {
    "name": "ipython",
    "version": 3
   },
   "file_extension": ".py",
   "mimetype": "text/x-python",
   "name": "python",
   "nbconvert_exporter": "python",
   "pygments_lexer": "ipython3",
   "version": "3.9.13"
  },
  "orig_nbformat": 4,
  "vscode": {
   "interpreter": {
    "hash": "00c6814f8c0fe7cf93daefa9ee5817d90a5bdebd7d4acf5bc3ec852c7fd4cbb0"
   }
  }
 },
 "nbformat": 4,
 "nbformat_minor": 2
}
